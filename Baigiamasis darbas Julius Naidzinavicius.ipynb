{
 "cells": [
  {
   "cell_type": "markdown",
   "id": "2a64d0b3",
   "metadata": {},
   "source": [
    "# Duomenys\n",
    "\n",
    "Didžiųjų pasaulio miestų oro temperatūros duomenys 1995-2020 metų laikotarpiu. Pateikiami kiekvienos dienos rodmenys. Miestai sugrupuoti pagal šalį ir regioną."
   ]
  },
  {
   "cell_type": "markdown",
   "id": "a96bfa88",
   "metadata": {},
   "source": [
    "## Tikslas\n",
    "\n",
    "Išanalizuoti pasirinktus duomenis su Python."
   ]
  },
  {
   "cell_type": "markdown",
   "id": "8c00d2e9",
   "metadata": {},
   "source": [
    "## Hipotezė\n",
    "\n",
    "Pasaulyje vyksta globalinis atšilimas, nes pastaruosius dešimtmečius fiksuojamas temperatūros didėjimas."
   ]
  },
  {
   "cell_type": "markdown",
   "id": "9cf8cad0",
   "metadata": {},
   "source": [
    "# Duomenų paruošimas"
   ]
  },
  {
   "cell_type": "code",
   "execution_count": 1,
   "id": "66468636",
   "metadata": {},
   "outputs": [],
   "source": [
    "import pandas as pd\n",
    "import numpy as np\n",
    "import matplotlib\n",
    "import matplotlib.pyplot as plt\n",
    "import seaborn as sb"
   ]
  },
  {
   "cell_type": "code",
   "execution_count": 42,
   "id": "91c2208e",
   "metadata": {},
   "outputs": [
    {
     "data": {
      "text/html": [
       "<div>\n",
       "<style scoped>\n",
       "    .dataframe tbody tr th:only-of-type {\n",
       "        vertical-align: middle;\n",
       "    }\n",
       "\n",
       "    .dataframe tbody tr th {\n",
       "        vertical-align: top;\n",
       "    }\n",
       "\n",
       "    .dataframe thead th {\n",
       "        text-align: right;\n",
       "    }\n",
       "</style>\n",
       "<table border=\"1\" class=\"dataframe\">\n",
       "  <thead>\n",
       "    <tr style=\"text-align: right;\">\n",
       "      <th></th>\n",
       "      <th>Region</th>\n",
       "      <th>Country</th>\n",
       "      <th>State</th>\n",
       "      <th>City</th>\n",
       "      <th>Month</th>\n",
       "      <th>Day</th>\n",
       "      <th>Year</th>\n",
       "      <th>AvgTemperature</th>\n",
       "    </tr>\n",
       "  </thead>\n",
       "  <tbody>\n",
       "    <tr>\n",
       "      <th>0</th>\n",
       "      <td>Africa</td>\n",
       "      <td>Algeria</td>\n",
       "      <td>NaN</td>\n",
       "      <td>Algiers</td>\n",
       "      <td>1</td>\n",
       "      <td>1</td>\n",
       "      <td>1995</td>\n",
       "      <td>64.2</td>\n",
       "    </tr>\n",
       "    <tr>\n",
       "      <th>1</th>\n",
       "      <td>Africa</td>\n",
       "      <td>Algeria</td>\n",
       "      <td>NaN</td>\n",
       "      <td>Algiers</td>\n",
       "      <td>1</td>\n",
       "      <td>2</td>\n",
       "      <td>1995</td>\n",
       "      <td>49.4</td>\n",
       "    </tr>\n",
       "    <tr>\n",
       "      <th>2</th>\n",
       "      <td>Africa</td>\n",
       "      <td>Algeria</td>\n",
       "      <td>NaN</td>\n",
       "      <td>Algiers</td>\n",
       "      <td>1</td>\n",
       "      <td>3</td>\n",
       "      <td>1995</td>\n",
       "      <td>48.8</td>\n",
       "    </tr>\n",
       "    <tr>\n",
       "      <th>3</th>\n",
       "      <td>Africa</td>\n",
       "      <td>Algeria</td>\n",
       "      <td>NaN</td>\n",
       "      <td>Algiers</td>\n",
       "      <td>1</td>\n",
       "      <td>4</td>\n",
       "      <td>1995</td>\n",
       "      <td>46.4</td>\n",
       "    </tr>\n",
       "    <tr>\n",
       "      <th>4</th>\n",
       "      <td>Africa</td>\n",
       "      <td>Algeria</td>\n",
       "      <td>NaN</td>\n",
       "      <td>Algiers</td>\n",
       "      <td>1</td>\n",
       "      <td>5</td>\n",
       "      <td>1995</td>\n",
       "      <td>47.9</td>\n",
       "    </tr>\n",
       "    <tr>\n",
       "      <th>...</th>\n",
       "      <td>...</td>\n",
       "      <td>...</td>\n",
       "      <td>...</td>\n",
       "      <td>...</td>\n",
       "      <td>...</td>\n",
       "      <td>...</td>\n",
       "      <td>...</td>\n",
       "      <td>...</td>\n",
       "    </tr>\n",
       "    <tr>\n",
       "      <th>2906322</th>\n",
       "      <td>North America</td>\n",
       "      <td>US</td>\n",
       "      <td>Additional Territories</td>\n",
       "      <td>San Juan Puerto Rico</td>\n",
       "      <td>7</td>\n",
       "      <td>27</td>\n",
       "      <td>2013</td>\n",
       "      <td>82.4</td>\n",
       "    </tr>\n",
       "    <tr>\n",
       "      <th>2906323</th>\n",
       "      <td>North America</td>\n",
       "      <td>US</td>\n",
       "      <td>Additional Territories</td>\n",
       "      <td>San Juan Puerto Rico</td>\n",
       "      <td>7</td>\n",
       "      <td>28</td>\n",
       "      <td>2013</td>\n",
       "      <td>81.6</td>\n",
       "    </tr>\n",
       "    <tr>\n",
       "      <th>2906324</th>\n",
       "      <td>North America</td>\n",
       "      <td>US</td>\n",
       "      <td>Additional Territories</td>\n",
       "      <td>San Juan Puerto Rico</td>\n",
       "      <td>7</td>\n",
       "      <td>29</td>\n",
       "      <td>2013</td>\n",
       "      <td>84.2</td>\n",
       "    </tr>\n",
       "    <tr>\n",
       "      <th>2906325</th>\n",
       "      <td>North America</td>\n",
       "      <td>US</td>\n",
       "      <td>Additional Territories</td>\n",
       "      <td>San Juan Puerto Rico</td>\n",
       "      <td>7</td>\n",
       "      <td>30</td>\n",
       "      <td>2013</td>\n",
       "      <td>83.8</td>\n",
       "    </tr>\n",
       "    <tr>\n",
       "      <th>2906326</th>\n",
       "      <td>North America</td>\n",
       "      <td>US</td>\n",
       "      <td>Additional Territories</td>\n",
       "      <td>San Juan Puerto Rico</td>\n",
       "      <td>7</td>\n",
       "      <td>31</td>\n",
       "      <td>2013</td>\n",
       "      <td>83.6</td>\n",
       "    </tr>\n",
       "  </tbody>\n",
       "</table>\n",
       "<p>2906327 rows × 8 columns</p>\n",
       "</div>"
      ],
      "text/plain": [
       "                Region  Country                   State                  City  \\\n",
       "0               Africa  Algeria                     NaN               Algiers   \n",
       "1               Africa  Algeria                     NaN               Algiers   \n",
       "2               Africa  Algeria                     NaN               Algiers   \n",
       "3               Africa  Algeria                     NaN               Algiers   \n",
       "4               Africa  Algeria                     NaN               Algiers   \n",
       "...                ...      ...                     ...                   ...   \n",
       "2906322  North America       US  Additional Territories  San Juan Puerto Rico   \n",
       "2906323  North America       US  Additional Territories  San Juan Puerto Rico   \n",
       "2906324  North America       US  Additional Territories  San Juan Puerto Rico   \n",
       "2906325  North America       US  Additional Territories  San Juan Puerto Rico   \n",
       "2906326  North America       US  Additional Territories  San Juan Puerto Rico   \n",
       "\n",
       "         Month  Day  Year  AvgTemperature  \n",
       "0            1    1  1995            64.2  \n",
       "1            1    2  1995            49.4  \n",
       "2            1    3  1995            48.8  \n",
       "3            1    4  1995            46.4  \n",
       "4            1    5  1995            47.9  \n",
       "...        ...  ...   ...             ...  \n",
       "2906322      7   27  2013            82.4  \n",
       "2906323      7   28  2013            81.6  \n",
       "2906324      7   29  2013            84.2  \n",
       "2906325      7   30  2013            83.8  \n",
       "2906326      7   31  2013            83.6  \n",
       "\n",
       "[2906327 rows x 8 columns]"
      ]
     },
     "execution_count": 42,
     "metadata": {},
     "output_type": "execute_result"
    }
   ],
   "source": [
    "df = pd.read_csv('city_temperature.csv', low_memory=False)\n",
    "df"
   ]
  },
  {
   "cell_type": "code",
   "execution_count": null,
   "id": "62819a53",
   "metadata": {},
   "outputs": [],
   "source": [
    "# Iš viso įkelta daugiau negu 2,9 mln. eilučių ir 8 stulpeliai"
   ]
  },
  {
   "cell_type": "code",
   "execution_count": 43,
   "id": "65d6386e",
   "metadata": {},
   "outputs": [],
   "source": [
    "to_celsius = (df.AvgTemperature - 32) * 5 / 9\n",
    "df = df.assign(AvgTemp=np.round(to_celsius, 2)).drop(columns='AvgTemperature')"
   ]
  },
  {
   "cell_type": "code",
   "execution_count": null,
   "id": "bc4a6dec",
   "metadata": {},
   "outputs": [],
   "source": [
    "# Duomenyse temperatūra yra F, todėl pakeičiama į C."
   ]
  },
  {
   "cell_type": "code",
   "execution_count": 44,
   "id": "9f4a4987",
   "metadata": {
    "scrolled": true
   },
   "outputs": [
    {
     "data": {
      "text/html": [
       "<div>\n",
       "<style scoped>\n",
       "    .dataframe tbody tr th:only-of-type {\n",
       "        vertical-align: middle;\n",
       "    }\n",
       "\n",
       "    .dataframe tbody tr th {\n",
       "        vertical-align: top;\n",
       "    }\n",
       "\n",
       "    .dataframe thead th {\n",
       "        text-align: right;\n",
       "    }\n",
       "</style>\n",
       "<table border=\"1\" class=\"dataframe\">\n",
       "  <thead>\n",
       "    <tr style=\"text-align: right;\">\n",
       "      <th></th>\n",
       "      <th>Region</th>\n",
       "      <th>Country</th>\n",
       "      <th>State</th>\n",
       "      <th>City</th>\n",
       "      <th>Month</th>\n",
       "      <th>Day</th>\n",
       "      <th>Year</th>\n",
       "      <th>AvgTemp</th>\n",
       "    </tr>\n",
       "  </thead>\n",
       "  <tbody>\n",
       "    <tr>\n",
       "      <th>0</th>\n",
       "      <td>Africa</td>\n",
       "      <td>Algeria</td>\n",
       "      <td>NaN</td>\n",
       "      <td>Algiers</td>\n",
       "      <td>1</td>\n",
       "      <td>1</td>\n",
       "      <td>1995</td>\n",
       "      <td>17.89</td>\n",
       "    </tr>\n",
       "    <tr>\n",
       "      <th>1</th>\n",
       "      <td>Africa</td>\n",
       "      <td>Algeria</td>\n",
       "      <td>NaN</td>\n",
       "      <td>Algiers</td>\n",
       "      <td>1</td>\n",
       "      <td>2</td>\n",
       "      <td>1995</td>\n",
       "      <td>9.67</td>\n",
       "    </tr>\n",
       "    <tr>\n",
       "      <th>2</th>\n",
       "      <td>Africa</td>\n",
       "      <td>Algeria</td>\n",
       "      <td>NaN</td>\n",
       "      <td>Algiers</td>\n",
       "      <td>1</td>\n",
       "      <td>3</td>\n",
       "      <td>1995</td>\n",
       "      <td>9.33</td>\n",
       "    </tr>\n",
       "    <tr>\n",
       "      <th>3</th>\n",
       "      <td>Africa</td>\n",
       "      <td>Algeria</td>\n",
       "      <td>NaN</td>\n",
       "      <td>Algiers</td>\n",
       "      <td>1</td>\n",
       "      <td>4</td>\n",
       "      <td>1995</td>\n",
       "      <td>8.00</td>\n",
       "    </tr>\n",
       "    <tr>\n",
       "      <th>4</th>\n",
       "      <td>Africa</td>\n",
       "      <td>Algeria</td>\n",
       "      <td>NaN</td>\n",
       "      <td>Algiers</td>\n",
       "      <td>1</td>\n",
       "      <td>5</td>\n",
       "      <td>1995</td>\n",
       "      <td>8.83</td>\n",
       "    </tr>\n",
       "    <tr>\n",
       "      <th>...</th>\n",
       "      <td>...</td>\n",
       "      <td>...</td>\n",
       "      <td>...</td>\n",
       "      <td>...</td>\n",
       "      <td>...</td>\n",
       "      <td>...</td>\n",
       "      <td>...</td>\n",
       "      <td>...</td>\n",
       "    </tr>\n",
       "    <tr>\n",
       "      <th>2906322</th>\n",
       "      <td>North America</td>\n",
       "      <td>US</td>\n",
       "      <td>Additional Territories</td>\n",
       "      <td>San Juan Puerto Rico</td>\n",
       "      <td>7</td>\n",
       "      <td>27</td>\n",
       "      <td>2013</td>\n",
       "      <td>28.00</td>\n",
       "    </tr>\n",
       "    <tr>\n",
       "      <th>2906323</th>\n",
       "      <td>North America</td>\n",
       "      <td>US</td>\n",
       "      <td>Additional Territories</td>\n",
       "      <td>San Juan Puerto Rico</td>\n",
       "      <td>7</td>\n",
       "      <td>28</td>\n",
       "      <td>2013</td>\n",
       "      <td>27.56</td>\n",
       "    </tr>\n",
       "    <tr>\n",
       "      <th>2906324</th>\n",
       "      <td>North America</td>\n",
       "      <td>US</td>\n",
       "      <td>Additional Territories</td>\n",
       "      <td>San Juan Puerto Rico</td>\n",
       "      <td>7</td>\n",
       "      <td>29</td>\n",
       "      <td>2013</td>\n",
       "      <td>29.00</td>\n",
       "    </tr>\n",
       "    <tr>\n",
       "      <th>2906325</th>\n",
       "      <td>North America</td>\n",
       "      <td>US</td>\n",
       "      <td>Additional Territories</td>\n",
       "      <td>San Juan Puerto Rico</td>\n",
       "      <td>7</td>\n",
       "      <td>30</td>\n",
       "      <td>2013</td>\n",
       "      <td>28.78</td>\n",
       "    </tr>\n",
       "    <tr>\n",
       "      <th>2906326</th>\n",
       "      <td>North America</td>\n",
       "      <td>US</td>\n",
       "      <td>Additional Territories</td>\n",
       "      <td>San Juan Puerto Rico</td>\n",
       "      <td>7</td>\n",
       "      <td>31</td>\n",
       "      <td>2013</td>\n",
       "      <td>28.67</td>\n",
       "    </tr>\n",
       "  </tbody>\n",
       "</table>\n",
       "<p>2906327 rows × 8 columns</p>\n",
       "</div>"
      ],
      "text/plain": [
       "                Region  Country                   State                  City  \\\n",
       "0               Africa  Algeria                     NaN               Algiers   \n",
       "1               Africa  Algeria                     NaN               Algiers   \n",
       "2               Africa  Algeria                     NaN               Algiers   \n",
       "3               Africa  Algeria                     NaN               Algiers   \n",
       "4               Africa  Algeria                     NaN               Algiers   \n",
       "...                ...      ...                     ...                   ...   \n",
       "2906322  North America       US  Additional Territories  San Juan Puerto Rico   \n",
       "2906323  North America       US  Additional Territories  San Juan Puerto Rico   \n",
       "2906324  North America       US  Additional Territories  San Juan Puerto Rico   \n",
       "2906325  North America       US  Additional Territories  San Juan Puerto Rico   \n",
       "2906326  North America       US  Additional Territories  San Juan Puerto Rico   \n",
       "\n",
       "         Month  Day  Year  AvgTemp  \n",
       "0            1    1  1995    17.89  \n",
       "1            1    2  1995     9.67  \n",
       "2            1    3  1995     9.33  \n",
       "3            1    4  1995     8.00  \n",
       "4            1    5  1995     8.83  \n",
       "...        ...  ...   ...      ...  \n",
       "2906322      7   27  2013    28.00  \n",
       "2906323      7   28  2013    27.56  \n",
       "2906324      7   29  2013    29.00  \n",
       "2906325      7   30  2013    28.78  \n",
       "2906326      7   31  2013    28.67  \n",
       "\n",
       "[2906327 rows x 8 columns]"
      ]
     },
     "execution_count": 44,
     "metadata": {},
     "output_type": "execute_result"
    }
   ],
   "source": [
    "df"
   ]
  },
  {
   "cell_type": "code",
   "execution_count": 6,
   "id": "916509d1",
   "metadata": {},
   "outputs": [],
   "source": [
    "del df['State']"
   ]
  },
  {
   "cell_type": "code",
   "execution_count": null,
   "id": "620a92e1",
   "metadata": {},
   "outputs": [],
   "source": [
    "# Ištrinamas nenaudojamas stulpelis \"State\""
   ]
  },
  {
   "cell_type": "code",
   "execution_count": 7,
   "id": "74843076",
   "metadata": {},
   "outputs": [
    {
     "data": {
      "text/plain": [
       "Region     0\n",
       "Country    0\n",
       "City       0\n",
       "Month      0\n",
       "Day        0\n",
       "Year       0\n",
       "AvgTemp    0\n",
       "dtype: int64"
      ]
     },
     "execution_count": 7,
     "metadata": {},
     "output_type": "execute_result"
    }
   ],
   "source": [
    "df = df.drop_duplicates()\n",
    "df.isnull().sum()"
   ]
  },
  {
   "cell_type": "code",
   "execution_count": null,
   "id": "36bf8f91",
   "metadata": {},
   "outputs": [],
   "source": [
    "# Ištrinami dublikatai ir patikrinama ar nėra tuščių reikšmių"
   ]
  },
  {
   "cell_type": "code",
   "execution_count": 8,
   "id": "8a0958e8",
   "metadata": {},
   "outputs": [
    {
     "data": {
      "text/html": [
       "<div>\n",
       "<style scoped>\n",
       "    .dataframe tbody tr th:only-of-type {\n",
       "        vertical-align: middle;\n",
       "    }\n",
       "\n",
       "    .dataframe tbody tr th {\n",
       "        vertical-align: top;\n",
       "    }\n",
       "\n",
       "    .dataframe thead th {\n",
       "        text-align: right;\n",
       "    }\n",
       "</style>\n",
       "<table border=\"1\" class=\"dataframe\">\n",
       "  <thead>\n",
       "    <tr style=\"text-align: right;\">\n",
       "      <th></th>\n",
       "      <th>Region</th>\n",
       "      <th>Country</th>\n",
       "      <th>City</th>\n",
       "      <th>Month</th>\n",
       "      <th>Day</th>\n",
       "      <th>Year</th>\n",
       "      <th>AvgTemp</th>\n",
       "    </tr>\n",
       "  </thead>\n",
       "  <tbody>\n",
       "    <tr>\n",
       "      <th>845909</th>\n",
       "      <td>Europe</td>\n",
       "      <td>Norway</td>\n",
       "      <td>Oslo</td>\n",
       "      <td>12</td>\n",
       "      <td>1</td>\n",
       "      <td>200</td>\n",
       "      <td>-72.78</td>\n",
       "    </tr>\n",
       "    <tr>\n",
       "      <th>845910</th>\n",
       "      <td>Europe</td>\n",
       "      <td>Norway</td>\n",
       "      <td>Oslo</td>\n",
       "      <td>12</td>\n",
       "      <td>2</td>\n",
       "      <td>200</td>\n",
       "      <td>-72.78</td>\n",
       "    </tr>\n",
       "    <tr>\n",
       "      <th>743367</th>\n",
       "      <td>Europe</td>\n",
       "      <td>Germany</td>\n",
       "      <td>Hamburg</td>\n",
       "      <td>12</td>\n",
       "      <td>3</td>\n",
       "      <td>200</td>\n",
       "      <td>-72.78</td>\n",
       "    </tr>\n",
       "    <tr>\n",
       "      <th>845911</th>\n",
       "      <td>Europe</td>\n",
       "      <td>Norway</td>\n",
       "      <td>Oslo</td>\n",
       "      <td>12</td>\n",
       "      <td>3</td>\n",
       "      <td>200</td>\n",
       "      <td>-72.78</td>\n",
       "    </tr>\n",
       "    <tr>\n",
       "      <th>743368</th>\n",
       "      <td>Europe</td>\n",
       "      <td>Germany</td>\n",
       "      <td>Hamburg</td>\n",
       "      <td>12</td>\n",
       "      <td>4</td>\n",
       "      <td>200</td>\n",
       "      <td>-72.78</td>\n",
       "    </tr>\n",
       "    <tr>\n",
       "      <th>...</th>\n",
       "      <td>...</td>\n",
       "      <td>...</td>\n",
       "      <td>...</td>\n",
       "      <td>...</td>\n",
       "      <td>...</td>\n",
       "      <td>...</td>\n",
       "      <td>...</td>\n",
       "    </tr>\n",
       "    <tr>\n",
       "      <th>2862479</th>\n",
       "      <td>North America</td>\n",
       "      <td>US</td>\n",
       "      <td>Green Bay</td>\n",
       "      <td>5</td>\n",
       "      <td>13</td>\n",
       "      <td>2020</td>\n",
       "      <td>3.61</td>\n",
       "    </tr>\n",
       "    <tr>\n",
       "      <th>2871744</th>\n",
       "      <td>North America</td>\n",
       "      <td>US</td>\n",
       "      <td>Madison</td>\n",
       "      <td>5</td>\n",
       "      <td>13</td>\n",
       "      <td>2020</td>\n",
       "      <td>7.61</td>\n",
       "    </tr>\n",
       "    <tr>\n",
       "      <th>2881009</th>\n",
       "      <td>North America</td>\n",
       "      <td>US</td>\n",
       "      <td>Milwaukee</td>\n",
       "      <td>5</td>\n",
       "      <td>13</td>\n",
       "      <td>2020</td>\n",
       "      <td>5.11</td>\n",
       "    </tr>\n",
       "    <tr>\n",
       "      <th>2890274</th>\n",
       "      <td>North America</td>\n",
       "      <td>US</td>\n",
       "      <td>Casper</td>\n",
       "      <td>5</td>\n",
       "      <td>13</td>\n",
       "      <td>2020</td>\n",
       "      <td>12.28</td>\n",
       "    </tr>\n",
       "    <tr>\n",
       "      <th>2899539</th>\n",
       "      <td>North America</td>\n",
       "      <td>US</td>\n",
       "      <td>Cheyenne</td>\n",
       "      <td>5</td>\n",
       "      <td>13</td>\n",
       "      <td>2020</td>\n",
       "      <td>9.17</td>\n",
       "    </tr>\n",
       "  </tbody>\n",
       "</table>\n",
       "<p>2885424 rows × 7 columns</p>\n",
       "</div>"
      ],
      "text/plain": [
       "                Region  Country       City  Month  Day  Year  AvgTemp\n",
       "845909          Europe   Norway       Oslo     12    1   200   -72.78\n",
       "845910          Europe   Norway       Oslo     12    2   200   -72.78\n",
       "743367          Europe  Germany    Hamburg     12    3   200   -72.78\n",
       "845911          Europe   Norway       Oslo     12    3   200   -72.78\n",
       "743368          Europe  Germany    Hamburg     12    4   200   -72.78\n",
       "...                ...      ...        ...    ...  ...   ...      ...\n",
       "2862479  North America       US  Green Bay      5   13  2020     3.61\n",
       "2871744  North America       US    Madison      5   13  2020     7.61\n",
       "2881009  North America       US  Milwaukee      5   13  2020     5.11\n",
       "2890274  North America       US     Casper      5   13  2020    12.28\n",
       "2899539  North America       US   Cheyenne      5   13  2020     9.17\n",
       "\n",
       "[2885424 rows x 7 columns]"
      ]
     },
     "execution_count": 8,
     "metadata": {},
     "output_type": "execute_result"
    }
   ],
   "source": [
    "df.sort_values(['Year','Month','Day'])"
   ]
  },
  {
   "cell_type": "code",
   "execution_count": null,
   "id": "a2ca4e38",
   "metadata": {},
   "outputs": [],
   "source": [
    "## Dalis reikšmių netvarkingos: Year 200, 201 (klaidingai įvesti), o 2020 neįtraukti į analizę, nes duomenys tik iki 5 mėnesio"
   ]
  },
  {
   "cell_type": "code",
   "execution_count": 9,
   "id": "6c895402",
   "metadata": {},
   "outputs": [],
   "source": [
    "df = df[df['Year']<2020]"
   ]
  },
  {
   "cell_type": "code",
   "execution_count": 10,
   "id": "a42f58e1",
   "metadata": {},
   "outputs": [
    {
     "data": {
      "text/html": [
       "<div>\n",
       "<style scoped>\n",
       "    .dataframe tbody tr th:only-of-type {\n",
       "        vertical-align: middle;\n",
       "    }\n",
       "\n",
       "    .dataframe tbody tr th {\n",
       "        vertical-align: top;\n",
       "    }\n",
       "\n",
       "    .dataframe thead th {\n",
       "        text-align: right;\n",
       "    }\n",
       "</style>\n",
       "<table border=\"1\" class=\"dataframe\">\n",
       "  <thead>\n",
       "    <tr style=\"text-align: right;\">\n",
       "      <th></th>\n",
       "      <th>Region</th>\n",
       "      <th>Country</th>\n",
       "      <th>City</th>\n",
       "      <th>Month</th>\n",
       "      <th>Day</th>\n",
       "      <th>Year</th>\n",
       "      <th>AvgTemp</th>\n",
       "    </tr>\n",
       "  </thead>\n",
       "  <tbody>\n",
       "    <tr>\n",
       "      <th>0</th>\n",
       "      <td>Africa</td>\n",
       "      <td>Algeria</td>\n",
       "      <td>Algiers</td>\n",
       "      <td>1</td>\n",
       "      <td>1</td>\n",
       "      <td>1995</td>\n",
       "      <td>17.89</td>\n",
       "    </tr>\n",
       "    <tr>\n",
       "      <th>1</th>\n",
       "      <td>Africa</td>\n",
       "      <td>Algeria</td>\n",
       "      <td>Algiers</td>\n",
       "      <td>1</td>\n",
       "      <td>2</td>\n",
       "      <td>1995</td>\n",
       "      <td>9.67</td>\n",
       "    </tr>\n",
       "    <tr>\n",
       "      <th>2</th>\n",
       "      <td>Africa</td>\n",
       "      <td>Algeria</td>\n",
       "      <td>Algiers</td>\n",
       "      <td>1</td>\n",
       "      <td>3</td>\n",
       "      <td>1995</td>\n",
       "      <td>9.33</td>\n",
       "    </tr>\n",
       "    <tr>\n",
       "      <th>3</th>\n",
       "      <td>Africa</td>\n",
       "      <td>Algeria</td>\n",
       "      <td>Algiers</td>\n",
       "      <td>1</td>\n",
       "      <td>4</td>\n",
       "      <td>1995</td>\n",
       "      <td>8.00</td>\n",
       "    </tr>\n",
       "    <tr>\n",
       "      <th>4</th>\n",
       "      <td>Africa</td>\n",
       "      <td>Algeria</td>\n",
       "      <td>Algiers</td>\n",
       "      <td>1</td>\n",
       "      <td>5</td>\n",
       "      <td>1995</td>\n",
       "      <td>8.83</td>\n",
       "    </tr>\n",
       "  </tbody>\n",
       "</table>\n",
       "</div>"
      ],
      "text/plain": [
       "   Region  Country     City  Month  Day  Year  AvgTemp\n",
       "0  Africa  Algeria  Algiers      1    1  1995    17.89\n",
       "1  Africa  Algeria  Algiers      1    2  1995     9.67\n",
       "2  Africa  Algeria  Algiers      1    3  1995     9.33\n",
       "3  Africa  Algeria  Algiers      1    4  1995     8.00\n",
       "4  Africa  Algeria  Algiers      1    5  1995     8.83"
      ]
     },
     "execution_count": 10,
     "metadata": {},
     "output_type": "execute_result"
    }
   ],
   "source": [
    "df = df[(df.Year!=200) & (df.Year!=201)]\n",
    "df.head()"
   ]
  },
  {
   "cell_type": "code",
   "execution_count": 292,
   "id": "f45c9827",
   "metadata": {},
   "outputs": [
    {
     "data": {
      "image/png": "[encoded data removed]",
      "text/plain": [
       "<Figure size 576x720 with 1 Axes>"
      ]
     },
     "metadata": {
      "needs_background": "light"
     },
     "output_type": "display_data"
    }
   ],
   "source": [
    "plt.figure(figsize = (8,10))\n",
    "sb.boxplot(data = df,y = 'AvgTemp')\n",
    "_=plt.title(\"Boxplot\")"
   ]
  },
  {
   "cell_type": "code",
   "execution_count": 11,
   "id": "1e3e3235",
   "metadata": {},
   "outputs": [],
   "source": [
    "df = df[df['AvgTemp']>-60]"
   ]
  },
  {
   "cell_type": "code",
   "execution_count": null,
   "id": "8e4c46b2",
   "metadata": {},
   "outputs": [],
   "source": [
    "## Pašalintos duomenis iškreipiančios reikšmės, kai temperatūra buvo mažiau už -60C"
   ]
  },
  {
   "cell_type": "code",
   "execution_count": 12,
   "id": "80504d21",
   "metadata": {},
   "outputs": [
    {
     "data": {
      "image/png": "[encoded data removed]",
      "text/plain": [
       "<Figure size 576x720 with 1 Axes>"
      ]
     },
     "metadata": {
      "needs_background": "light"
     },
     "output_type": "display_data"
    }
   ],
   "source": [
    "plt.figure(figsize = (8,10))\n",
    "sb.boxplot(data = df,y = 'AvgTemp')\n",
    "_=plt.title(\"Boxplot\")"
   ]
  },
  {
   "cell_type": "markdown",
   "id": "6b6cd9cb",
   "metadata": {},
   "source": [
    "# Duomenų statistiniai rodikliai"
   ]
  },
  {
   "cell_type": "code",
   "execution_count": 13,
   "id": "f5409821",
   "metadata": {},
   "outputs": [
    {
     "data": {
      "text/html": [
       "<div>\n",
       "<style scoped>\n",
       "    .dataframe tbody tr th:only-of-type {\n",
       "        vertical-align: middle;\n",
       "    }\n",
       "\n",
       "    .dataframe tbody tr th {\n",
       "        vertical-align: top;\n",
       "    }\n",
       "\n",
       "    .dataframe thead th {\n",
       "        text-align: right;\n",
       "    }\n",
       "</style>\n",
       "<table border=\"1\" class=\"dataframe\">\n",
       "  <thead>\n",
       "    <tr style=\"text-align: right;\">\n",
       "      <th></th>\n",
       "      <th>Region</th>\n",
       "      <th>Country</th>\n",
       "      <th>City</th>\n",
       "      <th>Month</th>\n",
       "      <th>Day</th>\n",
       "      <th>Year</th>\n",
       "      <th>AvgTemp</th>\n",
       "    </tr>\n",
       "  </thead>\n",
       "  <tbody>\n",
       "    <tr>\n",
       "      <th>0</th>\n",
       "      <td>Africa</td>\n",
       "      <td>Algeria</td>\n",
       "      <td>Algiers</td>\n",
       "      <td>1</td>\n",
       "      <td>1</td>\n",
       "      <td>1995</td>\n",
       "      <td>17.89</td>\n",
       "    </tr>\n",
       "    <tr>\n",
       "      <th>13809</th>\n",
       "      <td>Africa</td>\n",
       "      <td>Benin</td>\n",
       "      <td>Cotonou</td>\n",
       "      <td>1</td>\n",
       "      <td>1</td>\n",
       "      <td>1995</td>\n",
       "      <td>27.33</td>\n",
       "    </tr>\n",
       "    <tr>\n",
       "      <th>23075</th>\n",
       "      <td>Africa</td>\n",
       "      <td>Central African Republic</td>\n",
       "      <td>Bangui</td>\n",
       "      <td>1</td>\n",
       "      <td>1</td>\n",
       "      <td>1995</td>\n",
       "      <td>24.06</td>\n",
       "    </tr>\n",
       "    <tr>\n",
       "      <th>32341</th>\n",
       "      <td>Africa</td>\n",
       "      <td>Congo</td>\n",
       "      <td>Brazzaville</td>\n",
       "      <td>1</td>\n",
       "      <td>1</td>\n",
       "      <td>1995</td>\n",
       "      <td>26.61</td>\n",
       "    </tr>\n",
       "    <tr>\n",
       "      <th>41606</th>\n",
       "      <td>Africa</td>\n",
       "      <td>Egypt</td>\n",
       "      <td>Cairo</td>\n",
       "      <td>1</td>\n",
       "      <td>1</td>\n",
       "      <td>1995</td>\n",
       "      <td>15.11</td>\n",
       "    </tr>\n",
       "    <tr>\n",
       "      <th>...</th>\n",
       "      <td>...</td>\n",
       "      <td>...</td>\n",
       "      <td>...</td>\n",
       "      <td>...</td>\n",
       "      <td>...</td>\n",
       "      <td>...</td>\n",
       "      <td>...</td>\n",
       "    </tr>\n",
       "    <tr>\n",
       "      <th>2862345</th>\n",
       "      <td>North America</td>\n",
       "      <td>US</td>\n",
       "      <td>Green Bay</td>\n",
       "      <td>12</td>\n",
       "      <td>31</td>\n",
       "      <td>2019</td>\n",
       "      <td>-2.39</td>\n",
       "    </tr>\n",
       "    <tr>\n",
       "      <th>2871610</th>\n",
       "      <td>North America</td>\n",
       "      <td>US</td>\n",
       "      <td>Madison</td>\n",
       "      <td>12</td>\n",
       "      <td>31</td>\n",
       "      <td>2019</td>\n",
       "      <td>-3.67</td>\n",
       "    </tr>\n",
       "    <tr>\n",
       "      <th>2880875</th>\n",
       "      <td>North America</td>\n",
       "      <td>US</td>\n",
       "      <td>Milwaukee</td>\n",
       "      <td>12</td>\n",
       "      <td>31</td>\n",
       "      <td>2019</td>\n",
       "      <td>-2.22</td>\n",
       "    </tr>\n",
       "    <tr>\n",
       "      <th>2890140</th>\n",
       "      <td>North America</td>\n",
       "      <td>US</td>\n",
       "      <td>Casper</td>\n",
       "      <td>12</td>\n",
       "      <td>31</td>\n",
       "      <td>2019</td>\n",
       "      <td>-7.56</td>\n",
       "    </tr>\n",
       "    <tr>\n",
       "      <th>2899405</th>\n",
       "      <td>North America</td>\n",
       "      <td>US</td>\n",
       "      <td>Cheyenne</td>\n",
       "      <td>12</td>\n",
       "      <td>31</td>\n",
       "      <td>2019</td>\n",
       "      <td>-4.17</td>\n",
       "    </tr>\n",
       "  </tbody>\n",
       "</table>\n",
       "<p>2767764 rows × 7 columns</p>\n",
       "</div>"
      ],
      "text/plain": [
       "                Region                   Country         City  Month  Day  \\\n",
       "0               Africa                   Algeria      Algiers      1    1   \n",
       "13809           Africa                     Benin      Cotonou      1    1   \n",
       "23075           Africa  Central African Republic       Bangui      1    1   \n",
       "32341           Africa                     Congo  Brazzaville      1    1   \n",
       "41606           Africa                     Egypt        Cairo      1    1   \n",
       "...                ...                       ...          ...    ...  ...   \n",
       "2862345  North America                        US    Green Bay     12   31   \n",
       "2871610  North America                        US      Madison     12   31   \n",
       "2880875  North America                        US    Milwaukee     12   31   \n",
       "2890140  North America                        US       Casper     12   31   \n",
       "2899405  North America                        US     Cheyenne     12   31   \n",
       "\n",
       "         Year  AvgTemp  \n",
       "0        1995    17.89  \n",
       "13809    1995    27.33  \n",
       "23075    1995    24.06  \n",
       "32341    1995    26.61  \n",
       "41606    1995    15.11  \n",
       "...       ...      ...  \n",
       "2862345  2019    -2.39  \n",
       "2871610  2019    -3.67  \n",
       "2880875  2019    -2.22  \n",
       "2890140  2019    -7.56  \n",
       "2899405  2019    -4.17  \n",
       "\n",
       "[2767764 rows x 7 columns]"
      ]
     },
     "execution_count": 13,
     "metadata": {},
     "output_type": "execute_result"
    }
   ],
   "source": [
    "df.sort_values(['Year','Month','Day'])"
   ]
  },
  {
   "cell_type": "code",
   "execution_count": null,
   "id": "6c276d4b",
   "metadata": {},
   "outputs": [],
   "source": [
    "# Po duomenų sutvarkimo liko apie 2,7 mln. eilučių ir 7 stulpeliai"
   ]
  },
  {
   "cell_type": "code",
   "execution_count": 46,
   "id": "69486346",
   "metadata": {},
   "outputs": [
    {
     "data": {
      "text/plain": [
       "count    2.906327e+06\n",
       "mean     1.333601e+01\n",
       "std      1.784673e+01\n",
       "min     -7.278000e+01\n",
       "25%      7.670000e+00\n",
       "50%      1.694000e+01\n",
       "75%      2.417000e+01\n",
       "max      4.333000e+01\n",
       "Name: AvgTemp, dtype: float64"
      ]
     },
     "execution_count": 46,
     "metadata": {},
     "output_type": "execute_result"
    }
   ],
   "source": [
    "df['AvgTemp'].describe()"
   ]
  },
  {
   "cell_type": "code",
   "execution_count": 15,
   "id": "90a100af",
   "metadata": {},
   "outputs": [
    {
     "data": {
      "text/plain": [
       "15.82251602737838"
      ]
     },
     "execution_count": 15,
     "metadata": {},
     "output_type": "execute_result"
    }
   ],
   "source": [
    "df['AvgTemp'].mean()"
   ]
  },
  {
   "cell_type": "code",
   "execution_count": null,
   "id": "1d0189a1",
   "metadata": {},
   "outputs": [],
   "source": [
    "# Vidutinė temperatūra 1995-2019 m. buvo 15,8C, didžiausia 43,3C Kuveite, o mažiausia -45,6 Fairbankse"
   ]
  },
  {
   "cell_type": "code",
   "execution_count": 16,
   "id": "ad03a196",
   "metadata": {
    "scrolled": true
   },
   "outputs": [
    {
     "data": {
      "text/plain": [
       "City\n",
       "Kuwait       43.33\n",
       "Doha         42.50\n",
       "Dhahran      42.11\n",
       "Phoenix      42.06\n",
       "Yuma         41.94\n",
       "Dubai        41.94\n",
       "Abu Dhabi    41.83\n",
       "Las Vegas    41.67\n",
       "Muscat       41.06\n",
       "Riyadh       40.56\n",
       "Name: AvgTemp, dtype: float64"
      ]
     },
     "execution_count": 16,
     "metadata": {},
     "output_type": "execute_result"
    }
   ],
   "source": [
    "df.groupby('City')['AvgTemp'].max().sort_values(ascending=False).head(10)"
   ]
  },
  {
   "cell_type": "code",
   "execution_count": 17,
   "id": "bba05001",
   "metadata": {},
   "outputs": [
    {
     "data": {
      "text/plain": [
       "City\n",
       "Fairbanks    -45.56\n",
       "Ulan-bator   -38.44\n",
       "Regina       -38.06\n",
       "Winnipeg     -37.61\n",
       "Duluth       -34.33\n",
       "Fargo        -34.17\n",
       "Edmonton     -34.00\n",
       "Bismarck     -33.39\n",
       "Calgary      -33.28\n",
       "Helena       -32.44\n",
       "Name: AvgTemp, dtype: float64"
      ]
     },
     "execution_count": 17,
     "metadata": {},
     "output_type": "execute_result"
    }
   ],
   "source": [
    "df.groupby('City')['AvgTemp'].min().sort_values(ascending=True).head(10)"
   ]
  },
  {
   "cell_type": "code",
   "execution_count": 18,
   "id": "654ac352",
   "metadata": {},
   "outputs": [
    {
     "data": {
      "text/plain": [
       "Region\n",
       "Africa                               23.550537\n",
       "Middle East                          23.317657\n",
       "South/Central America & Carribean    22.321482\n",
       "Asia                                 20.111627\n",
       "Australia/South Pacific              16.787684\n",
       "North America                        13.466978\n",
       "Europe                               11.139048\n",
       "Name: AvgTemp, dtype: float64"
      ]
     },
     "execution_count": 18,
     "metadata": {},
     "output_type": "execute_result"
    }
   ],
   "source": [
    "df.groupby(['Region'])['AvgTemp'].mean().sort_values(ascending=False)"
   ]
  },
  {
   "cell_type": "code",
   "execution_count": null,
   "id": "03fb13f7",
   "metadata": {},
   "outputs": [],
   "source": [
    "# Afrika - šilčiausias regionas, Europa - šalčiausias"
   ]
  },
  {
   "cell_type": "markdown",
   "id": "22886c33",
   "metadata": {},
   "source": [
    "# Duomenų lentelės"
   ]
  },
  {
   "cell_type": "code",
   "execution_count": 19,
   "id": "55c4b551",
   "metadata": {},
   "outputs": [
    {
     "data": {
      "text/plain": [
       "Year\n",
       "2016    16.693513\n",
       "2017    16.527510\n",
       "2015    16.489901\n",
       "2012    16.336856\n",
       "2018    16.261832\n",
       "2019    16.184519\n",
       "2006    16.132301\n",
       "1998    16.041541\n",
       "2011    15.985340\n",
       "2007    15.979971\n",
       "2010    15.934312\n",
       "2005    15.856191\n",
       "2001    15.744186\n",
       "1999    15.743295\n",
       "2002    15.702279\n",
       "2014    15.662346\n",
       "2009    15.623679\n",
       "2004    15.615388\n",
       "2013    15.605356\n",
       "2003    15.567616\n",
       "2008    15.515689\n",
       "2000    15.398773\n",
       "1995    15.240810\n",
       "1997    15.079416\n",
       "1996    14.826302\n",
       "Name: AvgTemp, dtype: float64"
      ]
     },
     "execution_count": 19,
     "metadata": {},
     "output_type": "execute_result"
    }
   ],
   "source": [
    "df.groupby(['Year'])['AvgTemp'].mean().sort_values(ascending=False)"
   ]
  },
  {
   "cell_type": "code",
   "execution_count": null,
   "id": "d0078952",
   "metadata": {},
   "outputs": [],
   "source": [
    "# Pastebima tendencija, kad didžiausia vidutinė metų temperatūra buvo 2012-2019 metais."
   ]
  },
  {
   "cell_type": "code",
   "execution_count": 20,
   "id": "e96b5b8f",
   "metadata": {},
   "outputs": [
    {
     "data": {
      "text/plain": [
       "Country               Region                           \n",
       "Kuwait                Middle East                          43.33\n",
       "Qatar                 Middle East                          42.50\n",
       "Saudi Arabia          Middle East                          42.11\n",
       "US                    North America                        42.06\n",
       "United Arab Emirates  Middle East                          41.94\n",
       "Oman                  Middle East                          41.06\n",
       "India                 Asia                                 39.83\n",
       "Mexico                North America                        39.67\n",
       "Bahrain               Middle East                          39.61\n",
       "Nigeria               Africa                               39.33\n",
       "Cyprus                Europe                               39.17\n",
       "Pakistan              Asia                                 39.11\n",
       "Turkmenistan          Asia                                 39.00\n",
       "Egypt                 Africa                               37.89\n",
       "Guinea-Bissau         Africa                               37.83\n",
       "Mauritania            Africa                               37.50\n",
       "Myanmar (Burma)       Asia                                 37.39\n",
       "Tajikistan            Asia                                 36.44\n",
       "Haiti                 South/Central America & Carribean    36.33\n",
       "Morocco               Africa                               36.11\n",
       "Name: AvgTemp, dtype: float64"
      ]
     },
     "execution_count": 20,
     "metadata": {},
     "output_type": "execute_result"
    }
   ],
   "source": [
    "df.groupby(['Country','Region'])['AvgTemp'].max().sort_values(ascending=False).head(20)"
   ]
  },
  {
   "cell_type": "code",
   "execution_count": null,
   "id": "f2e0c7e3",
   "metadata": {},
   "outputs": [],
   "source": [
    "# Didžiausia 1995-2019 m. vidutinė temperatūra buvo vidurinių rytų šalyse: Kuveite, Katare, Saudo Arabijoje.\n",
    "# Visos šalys \"kaimynės\""
   ]
  },
  {
   "cell_type": "code",
   "execution_count": 21,
   "id": "c4081ec1",
   "metadata": {},
   "outputs": [
    {
     "data": {
      "text/html": [
       "<div>\n",
       "<style scoped>\n",
       "    .dataframe tbody tr th:only-of-type {\n",
       "        vertical-align: middle;\n",
       "    }\n",
       "\n",
       "    .dataframe tbody tr th {\n",
       "        vertical-align: top;\n",
       "    }\n",
       "\n",
       "    .dataframe thead th {\n",
       "        text-align: right;\n",
       "    }\n",
       "</style>\n",
       "<table border=\"1\" class=\"dataframe\">\n",
       "  <thead>\n",
       "    <tr style=\"text-align: right;\">\n",
       "      <th>Year</th>\n",
       "      <th>1995</th>\n",
       "      <th>1996</th>\n",
       "      <th>1997</th>\n",
       "      <th>1998</th>\n",
       "      <th>1999</th>\n",
       "      <th>2000</th>\n",
       "      <th>2001</th>\n",
       "      <th>2002</th>\n",
       "      <th>2003</th>\n",
       "      <th>2004</th>\n",
       "      <th>...</th>\n",
       "      <th>2010</th>\n",
       "      <th>2011</th>\n",
       "      <th>2012</th>\n",
       "      <th>2013</th>\n",
       "      <th>2014</th>\n",
       "      <th>2015</th>\n",
       "      <th>2016</th>\n",
       "      <th>2017</th>\n",
       "      <th>2018</th>\n",
       "      <th>2019</th>\n",
       "    </tr>\n",
       "    <tr>\n",
       "      <th>Region</th>\n",
       "      <th></th>\n",
       "      <th></th>\n",
       "      <th></th>\n",
       "      <th></th>\n",
       "      <th></th>\n",
       "      <th></th>\n",
       "      <th></th>\n",
       "      <th></th>\n",
       "      <th></th>\n",
       "      <th></th>\n",
       "      <th></th>\n",
       "      <th></th>\n",
       "      <th></th>\n",
       "      <th></th>\n",
       "      <th></th>\n",
       "      <th></th>\n",
       "      <th></th>\n",
       "      <th></th>\n",
       "      <th></th>\n",
       "      <th></th>\n",
       "      <th></th>\n",
       "    </tr>\n",
       "  </thead>\n",
       "  <tbody>\n",
       "    <tr>\n",
       "      <th>Africa</th>\n",
       "      <td>23.272240</td>\n",
       "      <td>23.085922</td>\n",
       "      <td>23.022888</td>\n",
       "      <td>23.193781</td>\n",
       "      <td>23.274549</td>\n",
       "      <td>23.009901</td>\n",
       "      <td>23.498142</td>\n",
       "      <td>23.493816</td>\n",
       "      <td>23.768635</td>\n",
       "      <td>23.688573</td>\n",
       "      <td>...</td>\n",
       "      <td>24.072513</td>\n",
       "      <td>23.542744</td>\n",
       "      <td>23.129732</td>\n",
       "      <td>23.516754</td>\n",
       "      <td>23.720283</td>\n",
       "      <td>23.816039</td>\n",
       "      <td>24.046288</td>\n",
       "      <td>23.858320</td>\n",
       "      <td>23.711235</td>\n",
       "      <td>23.940358</td>\n",
       "    </tr>\n",
       "    <tr>\n",
       "      <th>Asia</th>\n",
       "      <td>19.590559</td>\n",
       "      <td>19.927560</td>\n",
       "      <td>20.193551</td>\n",
       "      <td>20.590543</td>\n",
       "      <td>20.016232</td>\n",
       "      <td>19.843766</td>\n",
       "      <td>19.854072</td>\n",
       "      <td>20.032955</td>\n",
       "      <td>19.951247</td>\n",
       "      <td>20.174710</td>\n",
       "      <td>...</td>\n",
       "      <td>20.457896</td>\n",
       "      <td>19.806022</td>\n",
       "      <td>19.576998</td>\n",
       "      <td>19.910425</td>\n",
       "      <td>19.892380</td>\n",
       "      <td>20.370648</td>\n",
       "      <td>20.474881</td>\n",
       "      <td>20.254278</td>\n",
       "      <td>20.252916</td>\n",
       "      <td>20.370677</td>\n",
       "    </tr>\n",
       "    <tr>\n",
       "      <th>Australia/South Pacific</th>\n",
       "      <td>16.221983</td>\n",
       "      <td>16.087297</td>\n",
       "      <td>16.431717</td>\n",
       "      <td>16.684082</td>\n",
       "      <td>16.719492</td>\n",
       "      <td>16.587854</td>\n",
       "      <td>16.568621</td>\n",
       "      <td>16.762338</td>\n",
       "      <td>16.597290</td>\n",
       "      <td>16.586990</td>\n",
       "      <td>...</td>\n",
       "      <td>16.835720</td>\n",
       "      <td>16.741046</td>\n",
       "      <td>16.521644</td>\n",
       "      <td>17.162062</td>\n",
       "      <td>17.138269</td>\n",
       "      <td>16.951575</td>\n",
       "      <td>17.215396</td>\n",
       "      <td>17.203522</td>\n",
       "      <td>17.120420</td>\n",
       "      <td>17.402023</td>\n",
       "    </tr>\n",
       "    <tr>\n",
       "      <th>Europe</th>\n",
       "      <td>10.855549</td>\n",
       "      <td>10.076932</td>\n",
       "      <td>10.800106</td>\n",
       "      <td>11.037081</td>\n",
       "      <td>11.250531</td>\n",
       "      <td>11.678491</td>\n",
       "      <td>11.101016</td>\n",
       "      <td>11.395378</td>\n",
       "      <td>11.226278</td>\n",
       "      <td>10.994910</td>\n",
       "      <td>...</td>\n",
       "      <td>10.325080</td>\n",
       "      <td>11.301206</td>\n",
       "      <td>10.800724</td>\n",
       "      <td>10.674809</td>\n",
       "      <td>11.536173</td>\n",
       "      <td>11.453094</td>\n",
       "      <td>11.116309</td>\n",
       "      <td>11.139760</td>\n",
       "      <td>11.591819</td>\n",
       "      <td>11.611442</td>\n",
       "    </tr>\n",
       "    <tr>\n",
       "      <th>Middle East</th>\n",
       "      <td>22.007074</td>\n",
       "      <td>22.498672</td>\n",
       "      <td>21.711888</td>\n",
       "      <td>23.170260</td>\n",
       "      <td>23.170944</td>\n",
       "      <td>22.496956</td>\n",
       "      <td>23.419793</td>\n",
       "      <td>23.131053</td>\n",
       "      <td>23.152327</td>\n",
       "      <td>23.038908</td>\n",
       "      <td>...</td>\n",
       "      <td>24.476860</td>\n",
       "      <td>23.142068</td>\n",
       "      <td>23.501125</td>\n",
       "      <td>23.508652</td>\n",
       "      <td>23.818613</td>\n",
       "      <td>24.147847</td>\n",
       "      <td>23.953964</td>\n",
       "      <td>23.901153</td>\n",
       "      <td>24.572732</td>\n",
       "      <td>23.851514</td>\n",
       "    </tr>\n",
       "    <tr>\n",
       "      <th>North America</th>\n",
       "      <td>13.087597</td>\n",
       "      <td>12.272870</td>\n",
       "      <td>12.626488</td>\n",
       "      <td>14.148422</td>\n",
       "      <td>13.635338</td>\n",
       "      <td>13.057759</td>\n",
       "      <td>13.493721</td>\n",
       "      <td>13.292857</td>\n",
       "      <td>13.101372</td>\n",
       "      <td>13.196701</td>\n",
       "      <td>...</td>\n",
       "      <td>13.450978</td>\n",
       "      <td>13.622621</td>\n",
       "      <td>14.478001</td>\n",
       "      <td>12.997363</td>\n",
       "      <td>12.878094</td>\n",
       "      <td>14.127389</td>\n",
       "      <td>14.594504</td>\n",
       "      <td>14.380774</td>\n",
       "      <td>13.877780</td>\n",
       "      <td>13.741266</td>\n",
       "    </tr>\n",
       "    <tr>\n",
       "      <th>South/Central America &amp; Carribean</th>\n",
       "      <td>21.468210</td>\n",
       "      <td>21.665366</td>\n",
       "      <td>22.316165</td>\n",
       "      <td>22.303406</td>\n",
       "      <td>21.756443</td>\n",
       "      <td>21.848601</td>\n",
       "      <td>22.212365</td>\n",
       "      <td>22.560070</td>\n",
       "      <td>22.310888</td>\n",
       "      <td>22.189854</td>\n",
       "      <td>...</td>\n",
       "      <td>22.386135</td>\n",
       "      <td>22.307245</td>\n",
       "      <td>22.292278</td>\n",
       "      <td>22.496305</td>\n",
       "      <td>22.655705</td>\n",
       "      <td>23.274385</td>\n",
       "      <td>23.121594</td>\n",
       "      <td>23.009442</td>\n",
       "      <td>22.598388</td>\n",
       "      <td>22.887587</td>\n",
       "    </tr>\n",
       "  </tbody>\n",
       "</table>\n",
       "<p>7 rows × 25 columns</p>\n",
       "</div>"
      ],
      "text/plain": [
       "Year                                    1995       1996       1997       1998  \\\n",
       "Region                                                                          \n",
       "Africa                             23.272240  23.085922  23.022888  23.193781   \n",
       "Asia                               19.590559  19.927560  20.193551  20.590543   \n",
       "Australia/South Pacific            16.221983  16.087297  16.431717  16.684082   \n",
       "Europe                             10.855549  10.076932  10.800106  11.037081   \n",
       "Middle East                        22.007074  22.498672  21.711888  23.170260   \n",
       "North America                      13.087597  12.272870  12.626488  14.148422   \n",
       "South/Central America & Carribean  21.468210  21.665366  22.316165  22.303406   \n",
       "\n",
       "Year                                    1999       2000       2001       2002  \\\n",
       "Region                                                                          \n",
       "Africa                             23.274549  23.009901  23.498142  23.493816   \n",
       "Asia                               20.016232  19.843766  19.854072  20.032955   \n",
       "Australia/South Pacific            16.719492  16.587854  16.568621  16.762338   \n",
       "Europe                             11.250531  11.678491  11.101016  11.395378   \n",
       "Middle East                        23.170944  22.496956  23.419793  23.131053   \n",
       "North America                      13.635338  13.057759  13.493721  13.292857   \n",
       "South/Central America & Carribean  21.756443  21.848601  22.212365  22.560070   \n",
       "\n",
       "Year                                    2003       2004  ...       2010  \\\n",
       "Region                                                   ...              \n",
       "Africa                             23.768635  23.688573  ...  24.072513   \n",
       "Asia                               19.951247  20.174710  ...  20.457896   \n",
       "Australia/South Pacific            16.597290  16.586990  ...  16.835720   \n",
       "Europe                             11.226278  10.994910  ...  10.325080   \n",
       "Middle East                        23.152327  23.038908  ...  24.476860   \n",
       "North America                      13.101372  13.196701  ...  13.450978   \n",
       "South/Central America & Carribean  22.310888  22.189854  ...  22.386135   \n",
       "\n",
       "Year                                    2011       2012       2013       2014  \\\n",
       "Region                                                                          \n",
       "Africa                             23.542744  23.129732  23.516754  23.720283   \n",
       "Asia                               19.806022  19.576998  19.910425  19.892380   \n",
       "Australia/South Pacific            16.741046  16.521644  17.162062  17.138269   \n",
       "Europe                             11.301206  10.800724  10.674809  11.536173   \n",
       "Middle East                        23.142068  23.501125  23.508652  23.818613   \n",
       "North America                      13.622621  14.478001  12.997363  12.878094   \n",
       "South/Central America & Carribean  22.307245  22.292278  22.496305  22.655705   \n",
       "\n",
       "Year                                    2015       2016       2017       2018  \\\n",
       "Region                                                                          \n",
       "Africa                             23.816039  24.046288  23.858320  23.711235   \n",
       "Asia                               20.370648  20.474881  20.254278  20.252916   \n",
       "Australia/South Pacific            16.951575  17.215396  17.203522  17.120420   \n",
       "Europe                             11.453094  11.116309  11.139760  11.591819   \n",
       "Middle East                        24.147847  23.953964  23.901153  24.572732   \n",
       "North America                      14.127389  14.594504  14.380774  13.877780   \n",
       "South/Central America & Carribean  23.274385  23.121594  23.009442  22.598388   \n",
       "\n",
       "Year                                    2019  \n",
       "Region                                        \n",
       "Africa                             23.940358  \n",
       "Asia                               20.370677  \n",
       "Australia/South Pacific            17.402023  \n",
       "Europe                             11.611442  \n",
       "Middle East                        23.851514  \n",
       "North America                      13.741266  \n",
       "South/Central America & Carribean  22.887587  \n",
       "\n",
       "[7 rows x 25 columns]"
      ]
     },
     "execution_count": 21,
     "metadata": {},
     "output_type": "execute_result"
    }
   ],
   "source": [
    "pivoted_df=pd.pivot_table(df[['Region','AvgTemp','Year']], \n",
    "                          values='AvgTemp', index=['Region'],\n",
    "                          columns=['Year'], aggfunc=np.mean)\n",
    "pivoted_df"
   ]
  },
  {
   "cell_type": "code",
   "execution_count": null,
   "id": "d5201ad5",
   "metadata": {},
   "outputs": [],
   "source": [
    "# Sukuriama Pivot lentelė, kurioje pateikiami regionų vidutinės temperatūros duomenys kas metus 1995-2019 m. laikotarpiu."
   ]
  },
  {
   "cell_type": "markdown",
   "id": "a882c3fe",
   "metadata": {},
   "source": [
    "# Grafikai"
   ]
  },
  {
   "cell_type": "code",
   "execution_count": 22,
   "id": "a6321600",
   "metadata": {},
   "outputs": [
    {
     "data": {
      "image/png": "[encoded data removed]",
      "text/plain": [
       "<Figure size 1152x648 with 1 Axes>"
      ]
     },
     "metadata": {
      "needs_background": "light"
     },
     "output_type": "display_data"
    }
   ],
   "source": [
    "region = df[['Region', 'Year', 'AvgTemp']].groupby(['Region', 'Year']).mean()\n",
    "plt.figure(figsize=(16, 9))\n",
    "plt.title('Temperature Averages of Regions by Years',fontsize=20)\n",
    "plt.xlabel('Years',fontsize=16)\n",
    "plt.ylabel('Average Temperature',fontsize=16)\n",
    "sb.lineplot(x = 'Year', y = 'AvgTemp', hue = 'Region', units = 'Region', markers = True, dashes = False, estimator = None, lw = 1, data = region)\n",
    "plt.legend(bbox_to_anchor = (1, 1), title = 'Regions')\n",
    "plt.show()"
   ]
  },
  {
   "cell_type": "code",
   "execution_count": null,
   "id": "36129ff3",
   "metadata": {},
   "outputs": [],
   "source": [
    "# Pivot lentelės duomenys atvaizduoji grafiškai"
   ]
  },
  {
   "cell_type": "code",
   "execution_count": null,
   "id": "2640aefb",
   "metadata": {},
   "outputs": [],
   "source": [
    "# Lyginant regionus tarpusavyje matoma, kad temperatūra nežymiai didėja visuose regionuose, \n",
    "# todėl negalima teigti, jog globalus atšilimas priklauso nuo konkretaus regiono.\n",
    "\n",
    "# Toliau duomenys yra analizuojami bendrai - vidutinė visų regionų (miestų) temperatūra kas metus 1995-2019 m. laikotarpiu"
   ]
  },
  {
   "cell_type": "code",
   "execution_count": 30,
   "id": "22a73670",
   "metadata": {},
   "outputs": [
    {
     "data": {
      "image/png": "[encoded data removed]",
      "text/plain": [
       "<Figure size 1152x648 with 1 Axes>"
      ]
     },
     "metadata": {
      "needs_background": "light"
     },
     "output_type": "display_data"
    }
   ],
   "source": [
    "world_data = df\n",
    "world_avg_deg = world_data.groupby(\"Year\")[\"AvgTemp\"].mean()\n",
    "\n",
    "plt.figure(figsize=(16, 9))\n",
    "plt.scatter(world_avg_deg.axes[0],world_avg_deg)\n",
    "plt.xlabel('Years',fontsize=16)\n",
    "plt.ylabel('Average Temperature',fontsize=16)\n",
    "plt.title('Temperature Averages of World by Years',fontsize=20)\n",
    "plt.grid(color='r', linestyle='dotted', linewidth=0.5)\n",
    "plt.show()"
   ]
  },
  {
   "cell_type": "code",
   "execution_count": null,
   "id": "12fa8a4a",
   "metadata": {},
   "outputs": [],
   "source": [
    "# Atvaizduojamos vidutinės kiekvienų metų reikšmės."
   ]
  },
  {
   "cell_type": "code",
   "execution_count": 38,
   "id": "6d77d460",
   "metadata": {},
   "outputs": [
    {
     "data": {
      "image/png": "[encoded data removed]",
      "text/plain": [
       "<Figure size 1152x648 with 1 Axes>"
      ]
     },
     "metadata": {
      "needs_background": "light"
     },
     "output_type": "display_data"
    }
   ],
   "source": [
    "plt.figure(figsize=(16, 9))\n",
    "plt.scatter(world_avg.axes[0],world_avg)\n",
    "plt.plot(x,y,linestyle='solid',label=\"Temperature\")\n",
    "plt.xlabel('Years',fontsize=16)\n",
    "plt.ylabel('Average Temperature',fontsize=16)\n",
    "plt.title('Temperature Averages of World by Years',fontsize=20)\n",
    "plt.grid(color='r', linestyle='dotted', linewidth=0.5)\n",
    "plt.show()"
   ]
  },
  {
   "cell_type": "code",
   "execution_count": null,
   "id": "6ae06c49",
   "metadata": {},
   "outputs": [],
   "source": [
    "# Kiekvienų metų reikšmės sujungiamos linija dėl geresnio vizualaus įvertinimo. \n",
    "# Matoma, kad vidutinė temperatūra svyruoja, tačiau visu laikotarpiu pastebimas temperatūros kilimas, \n",
    "# todėl į grafiką papildomai pridedama polinominė regresija"
   ]
  },
  {
   "cell_type": "code",
   "execution_count": 35,
   "id": "a80ba6e9",
   "metadata": {},
   "outputs": [
    {
     "name": "stdout",
     "output_type": "stream",
     "text": [
      "(25, 1)\n",
      "(25, 1)\n"
     ]
    }
   ],
   "source": [
    "x = world_avg.axes[0].values.reshape(-1,1)\n",
    "y = world_avg.values.reshape(-1,1)\n",
    "print(x.shape)\n",
    "print(y.shape)"
   ]
  },
  {
   "cell_type": "code",
   "execution_count": 36,
   "id": "98a269b3",
   "metadata": {},
   "outputs": [
    {
     "data": {
      "text/plain": [
       "LinearRegression()"
      ]
     },
     "execution_count": 36,
     "metadata": {},
     "output_type": "execute_result"
    }
   ],
   "source": [
    "from sklearn.preprocessing import PolynomialFeatures\n",
    "from sklearn.linear_model import LinearRegression\n",
    "Poly_reg=PolynomialFeatures(degree=2) \n",
    "x_poly=Poly_reg.fit_transform(x)\n",
    "Lin_reg = LinearRegression()\n",
    "Lin_reg.fit(x_poly,y)"
   ]
  },
  {
   "cell_type": "code",
   "execution_count": 37,
   "id": "d0174676",
   "metadata": {},
   "outputs": [
    {
     "data": {
      "image/png": "[encoded data removed]",
      "text/plain": [
       "<Figure size 1152x648 with 1 Axes>"
      ]
     },
     "metadata": {
      "needs_background": "light"
     },
     "output_type": "display_data"
    }
   ],
   "source": [
    "plt.figure(figsize=(16, 9))\n",
    "plt.scatter(world_avg.axes[0],world_avg)\n",
    "plt.plot(x,y,linestyle='solid',label=\"Temperature\")\n",
    "plt.xlabel('Years',fontsize=16)\n",
    "plt.ylabel('Average Temperature',fontsize=16)\n",
    "plt.title('Temperature Averages of World by Years',fontsize=20)\n",
    "plt.grid(color='r', linestyle='dotted', linewidth=0.5)\n",
    "y_pred=Lin_reg.predict(x_poly)\n",
    "plt.plot(x,y_pred,color='green',label='Polynomial Regression Model')\n",
    "plt.legend()\n",
    "plt.show()"
   ]
  },
  {
   "cell_type": "code",
   "execution_count": null,
   "id": "176143a1",
   "metadata": {},
   "outputs": [],
   "source": [
    "# Diagramoje matomas pokytis: vidutinė pasaulio temperatūra nuo 1995 m. iki 2019 m. pakilo daugiau negu 1C\n",
    "# Gavus polinominės regresijos kreivę, šiuo atveju buvo galima naudoti ir tiesinę regresiją."
   ]
  },
  {
   "cell_type": "markdown",
   "id": "d432ca0e",
   "metadata": {},
   "source": [
    "# Išvados\n",
    "\n",
    "- Iškelta hipotezė pasitvirtino - nuo 1995 m. iki 2019 m. pasaulyje vidutinė temperatūra pakilo daugiau negu 1C, kas rodo globalinį atšilimą;\n",
    "- 2000, 2008 vidutinė temperatūra laikinai sumažėjo\n",
    "- Rekordinė temperatūra fiksuota 2015-2019 metais\n",
    "- Aukščiausia temperatūra (virš 40C) būna viduriniuose rytuose bei JAV.\n",
    "\n",
    "Galimi tolimesni tyrimo tikslai: \n",
    "- Kuriuose miestuose / regionuose temperatūra išliko tokia pati arba sumažėjo; \n",
    "- Prognozuoti, kaip keisis temperatūra ateityje; "
   ]
  },
  {
   "cell_type": "code",
   "execution_count": null,
   "id": "eda9f982",
   "metadata": {},
   "outputs": [],
   "source": []
  }
 ],
 "metadata": {
  "kernelspec": {
   "display_name": "Python 3 (ipykernel)",
   "language": "python",
   "name": "python3"
  },
  "language_info": {
   "codemirror_mode": {
    "name": "ipython",
    "version": 3
   },
   "file_extension": ".py",
   "mimetype": "text/x-python",
   "name": "python",
   "nbconvert_exporter": "python",
   "pygments_lexer": "ipython3",
   "version": "3.9.12"
  },
  "toc": {
   "base_numbering": 1,
   "nav_menu": {
    "height": "128px",
    "width": "216px"
   },
   "number_sections": true,
   "sideBar": true,
   "skip_h1_title": false,
   "title_cell": "Table of Contents",
   "title_sidebar": "Contents",
   "toc_cell": false,
   "toc_position": {},
   "toc_section_display": true,
   "toc_window_display": false
  }
 },
 "nbformat": 4,
 "nbformat_minor": 5
}
